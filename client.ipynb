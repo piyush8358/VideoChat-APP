{
 "cells": [
  {
   "cell_type": "code",
   "execution_count": 2,
   "metadata": {},
   "outputs": [],
   "source": [
    "import socket\n",
    "import pickle\n",
    "import struct\n",
    "import cv2"
   ]
  },
  {
   "cell_type": "code",
   "execution_count": 3,
   "metadata": {},
   "outputs": [
    {
     "name": "stdout",
     "output_type": "stream",
     "text": [
      "Socket successfully created\n"
     ]
    }
   ],
   "source": [
    "try:\n",
    "    s = socket.socket(socket.AF_INET, socket.SOCK_STREAM)\n",
    "    print(\"Socket successfully created\")\n",
    "except socket.error as err:\n",
    "    print(\"Socket creation failed with error %s\" % (err))\n"
   ]
  },
  {
   "cell_type": "code",
   "execution_count": 6,
   "metadata": {},
   "outputs": [],
   "source": [
    "\n",
    "# Remove the extra space in the IP address and fix the port number\n",
    "s.connect(('192.168.110.112', 9999))\n",
    "\n",
    "data = b\"\"\n",
    "payload_size = struct.calcsize(\"L\")  # Use \"L\" instead of \"N\" for unsigned long\n",
    "\n",
    "while True:\n",
    "    while len(data) < payload_size:\n",
    "        packet = s.recv(4 * 1024)\n",
    "        if not packet:\n",
    "            break\n",
    "        data += packet\n",
    "\n",
    "    if not packet:\n",
    "        break\n",
    "\n",
    "    Pmsg_size = data[:payload_size]\n",
    "    data = data[payload_size:]\n",
    "    msg_size = struct.unpack(\"L\", Pmsg_size)[0]\n",
    "\n",
    "    while len(data) < msg_size:\n",
    "        data += s.recv(4 * 1024)\n",
    "\n",
    "    frame_data = data[:msg_size]\n",
    "    data = data[msg_size:]\n",
    "    frame = pickle.loads(frame_data)\n",
    "    cv2.imshow(\"RECEIVING VIDEO\", frame)\n",
    "    key = cv2.waitKey(1) & 0xFF\n",
    "    if key == ord('q'):\n",
    "        break\n",
    "\n",
    "s.close()\n",
    "cv2.destroyAllWindows()"
   ]
  },
  {
   "cell_type": "code",
   "execution_count": null,
   "metadata": {},
   "outputs": [],
   "source": []
  }
 ],
 "metadata": {
  "kernelspec": {
   "display_name": "base",
   "language": "python",
   "name": "python3"
  },
  "language_info": {
   "codemirror_mode": {
    "name": "ipython",
    "version": 3
   },
   "file_extension": ".py",
   "mimetype": "text/x-python",
   "name": "python",
   "nbconvert_exporter": "python",
   "pygments_lexer": "ipython3",
   "version": "3.11.3"
  },
  "orig_nbformat": 4
 },
 "nbformat": 4,
 "nbformat_minor": 2
}
