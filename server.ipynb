{
 "cells": [
  {
   "cell_type": "code",
   "execution_count": 2,
   "metadata": {},
   "outputs": [],
   "source": [
    "import socket\n",
    "import pickle\n",
    "import struct\n",
    "import cv2"
   ]
  },
  {
   "cell_type": "code",
   "execution_count": 3,
   "metadata": {},
   "outputs": [
    {
     "name": "stdout",
     "output_type": "stream",
     "text": [
      "Socket successfully created\n"
     ]
    }
   ],
   "source": [
    "try:\n",
    "    s=socket.socket(socket.AF_INET,socket.SOCK_STREAM)\n",
    "    print(\"Socket successfully created\")\n",
    "except socket.error as err:\n",
    "    print(\"Socket creation failed with error %s\"%(err))"
   ]
  },
  {
   "cell_type": "code",
   "execution_count": 4,
   "metadata": {},
   "outputs": [
    {
     "name": "stdout",
     "output_type": "stream",
     "text": [
      "Socket is listening\n"
     ]
    }
   ],
   "source": [
    "s.bind(('', 9999))\n",
    "s.listen()\n",
    "print(\"Socket is listening\")\n",
    "\n"
   ]
  },
  {
   "cell_type": "code",
   "execution_count": 5,
   "metadata": {},
   "outputs": [
    {
     "name": "stdout",
     "output_type": "stream",
     "text": [
      "Got connection from ('192.168.110.112', 49832)\n"
     ]
    }
   ],
   "source": [
    "while True:\n",
    "    client, addr = s.accept()\n",
    "    print(\"Got connection from\", addr)\n",
    "\n",
    "    if client:\n",
    "        vid = cv2.VideoCapture(0)\n",
    "        while vid.isOpened():\n",
    "            ret, frame = vid.read()\n",
    "\n",
    "            if not ret:\n",
    "                break\n",
    "\n",
    "            a = pickle.dumps(frame)\n",
    "            message = struct.pack(\"L\", len(a)) + a\n",
    "            client.sendall(message)\n",
    "            cv2.imshow(\"Sending video\", frame)\n",
    "\n",
    "            key = cv2.waitKey(1) & 0xFF\n",
    "            if key == ord('q'):\n",
    "                client.close()\n",
    "                vid.release()\n",
    "                break\n",
    "\n",
    "s.close()\n",
    "cv2.destroyAllWindows()\n"
   ]
  },
  {
   "cell_type": "code",
   "execution_count": null,
   "metadata": {},
   "outputs": [],
   "source": []
  }
 ],
 "metadata": {
  "kernelspec": {
   "display_name": "base",
   "language": "python",
   "name": "python3"
  },
  "language_info": {
   "codemirror_mode": {
    "name": "ipython",
    "version": 3
   },
   "file_extension": ".py",
   "mimetype": "text/x-python",
   "name": "python",
   "nbconvert_exporter": "python",
   "pygments_lexer": "ipython3",
   "version": "3.11.3"
  },
  "orig_nbformat": 4
 },
 "nbformat": 4,
 "nbformat_minor": 2
}
